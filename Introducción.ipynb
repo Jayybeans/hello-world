{
  "nbformat": 4,
  "nbformat_minor": 0,
  "metadata": {
    "colab": {
      "name": "Introducción.ipynb",
      "provenance": [],
      "authorship_tag": "ABX9TyOHsx9eMt53JFUYdTkrg943",
      "include_colab_link": true
    },
    "kernelspec": {
      "name": "python3",
      "display_name": "Python 3"
    }
  },
  "cells": [
    {
      "cell_type": "markdown",
      "metadata": {
        "id": "view-in-github",
        "colab_type": "text"
      },
      "source": [
        "<a href=\"https://colab.research.google.com/github/Jayybeans/hello-world/blob/main/Introducci%C3%B3n.ipynb\" target=\"_parent\"><img src=\"https://colab.research.google.com/assets/colab-badge.svg\" alt=\"Open In Colab\"/></a>"
      ]
    },
    {
      "cell_type": "code",
      "metadata": {
        "colab": {
          "base_uri": "https://localhost:8080/"
        },
        "id": "TN9YAS_7rVoo",
        "outputId": "210f1c31-c0ea-4028-fc1a-e73cabceb783"
      },
      "source": [
        "print(123)\n",
        "print('Hola mundo')"
      ],
      "execution_count": 1,
      "outputs": [
        {
          "output_type": "stream",
          "text": [
            "123\n",
            "Hola mundo\n"
          ],
          "name": "stdout"
        }
      ]
    },
    {
      "cell_type": "code",
      "metadata": {
        "colab": {
          "base_uri": "https://localhost:8080/"
        },
        "id": "7z0N0n0MrzjE",
        "outputId": "d15ab074-a214-4751-aadc-1fe790eb36c1"
      },
      "source": [
        "a=5\n",
        "print(a)\n",
        "b='hola'\n",
        "print(b)"
      ],
      "execution_count": 3,
      "outputs": [
        {
          "output_type": "stream",
          "text": [
            "5\n",
            "hola\n"
          ],
          "name": "stdout"
        }
      ]
    },
    {
      "cell_type": "markdown",
      "metadata": {
        "id": "_endzwzWseA2"
      },
      "source": [
        "Input\n"
      ]
    },
    {
      "cell_type": "code",
      "metadata": {
        "colab": {
          "base_uri": "https://localhost:8080/"
        },
        "id": "IH3jRlBusMq9",
        "outputId": "4929b06b-efd7-48cb-a7f0-d312a110f5a0"
      },
      "source": [
        "nombre=input('Ingrese su nombre:')\n",
        "edad=int(input('Ingrese su edad:'))\n",
        "print('Tu edad es:',edad)\n",
        "print('Tu nombre es:',nombre)"
      ],
      "execution_count": 4,
      "outputs": [
        {
          "output_type": "stream",
          "text": [
            "Ingrese su nombre:Pepe\n",
            "Ingrese su edad:23\n",
            "Tu edad es: 23\n",
            "Tu nombre es: Pepe\n"
          ],
          "name": "stdout"
        }
      ]
    },
    {
      "cell_type": "markdown",
      "metadata": {
        "id": "EespX1M3stV9"
      },
      "source": [
        "Operaciones"
      ]
    },
    {
      "cell_type": "code",
      "metadata": {
        "colab": {
          "base_uri": "https://localhost:8080/"
        },
        "id": "rpgo0pyJsudM",
        "outputId": "621ee8b1-6315-4e21-d137-38cac3b68ed5"
      },
      "source": [
        "X=2\n",
        "Y=15\n",
        "Z=59\n",
        "A=X*Y\n",
        "B=A/Z\n",
        "print(B)\n",
        "print(A)\n",
        "C=16\n",
        "#Phyton *= /= += -=\n",
        "C/=10\n",
        "print(C)"
      ],
      "execution_count": 7,
      "outputs": [
        {
          "output_type": "stream",
          "text": [
            "0.5084745762711864\n",
            "30\n",
            "1.6\n"
          ],
          "name": "stdout"
        }
      ]
    },
    {
      "cell_type": "markdown",
      "metadata": {
        "id": "5FlkjA1GtkgF"
      },
      "source": [
        "Ingresar 3 números, uno a la vez, y se muestre a la salida el promedio de los 3 números"
      ]
    },
    {
      "cell_type": "code",
      "metadata": {
        "colab": {
          "base_uri": "https://localhost:8080/"
        },
        "id": "Im7rTQw1tpzv",
        "outputId": "2b6dd867-e1dd-40c0-c8d0-c4b3972bb42b"
      },
      "source": [
        "X=int(input('Ingrese el pimer número'))\n",
        "Y=int(input('Ingrese el segundo número'))\n",
        "Z=int(input('Ingrese el tercer número'))\n",
        "W=(X+Y+Z)/3\n",
        "print('El promedio de los 3 números es:',W)"
      ],
      "execution_count": 8,
      "outputs": [
        {
          "output_type": "stream",
          "text": [
            "Ingrese el pimer número5\n",
            "Ingrese el segundo número2\n",
            "Ingrese el tercer número8\n",
            "El promedio de los 3 números es: 5.0\n"
          ],
          "name": "stdout"
        }
      ]
    },
    {
      "cell_type": "markdown",
      "metadata": {
        "id": "wTV2jsVjv0Op"
      },
      "source": [
        "Comparacaiones"
      ]
    },
    {
      "cell_type": "code",
      "metadata": {
        "colab": {
          "base_uri": "https://localhost:8080/"
        },
        "id": "NiqZ3FXVv1Gy",
        "outputId": "fa61aa61-d9eb-444f-eb49-2c17bc5e5be5"
      },
      "source": [
        "x=4\n",
        "print(x>=4)\n",
        "print(x<3)\n",
        "y=int(input('Ingrese y'))\n",
        "y=7*y\n",
        "print(y%2==0)\n",
        "\n",
        "a=4\n",
        "b=a>5 and a<7\n",
        "c=a>5 or x<7\n",
        "k=not a>5\n",
        "print(b)\n",
        "print(c)\n",
        "print(k)\n"
      ],
      "execution_count": 15,
      "outputs": [
        {
          "output_type": "stream",
          "text": [
            "True\n",
            "False\n",
            "Ingrese y6\n",
            "True\n",
            "False\n",
            "True\n",
            "True\n"
          ],
          "name": "stdout"
        }
      ]
    },
    {
      "cell_type": "code",
      "metadata": {
        "colab": {
          "base_uri": "https://localhost:8080/"
        },
        "id": "23d6QUhhxIe-",
        "outputId": "b1bb2559-ab29-4869-d7d6-5c79a5d314bf"
      },
      "source": [
        "#condiciones más complejas\n",
        "x=10\n",
        "y=5\n",
        "z=(y>x and 15>x) or (y<x and 15>x)\n",
        "print(z)"
      ],
      "execution_count": 17,
      "outputs": [
        {
          "output_type": "stream",
          "text": [
            "True\n"
          ],
          "name": "stdout"
        }
      ]
    }
  ]
}